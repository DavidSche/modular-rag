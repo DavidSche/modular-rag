{
 "cells": [
  {
   "cell_type": "code",
   "execution_count": 1,
   "metadata": {},
   "outputs": [],
   "source": [
    "from hypster import HP, config\n",
    "\n",
    "\n",
    "@config\n",
    "def my_config(hp: HP):\n",
    "    var = hp.select([\"a\", \"b\", \"c\"], default=\"a\")\n",
    "    var2 = hp.select({\"option1\": 5, \"option2\": 100}, default=\"option2\")\n",
    "    if var == \"a\":\n",
    "        var3 = hp.int(1, min=0, max=2)\n",
    "        var4 = hp.bool(True)\n",
    "    else:\n",
    "        var5 = hp.number(1.3, min=0.0, max=1.5)\n",
    "        var6 = hp.text(\"You are a helpful assistant\")"
   ]
  },
  {
   "cell_type": "code",
   "execution_count": 2,
   "metadata": {},
   "outputs": [
    {
     "data": {
      "text/plain": [
       "{'var': 'b'}"
      ]
     },
     "execution_count": 2,
     "metadata": {},
     "output_type": "execute_result"
    }
   ],
   "source": [
    "results = my_config(final_vars=[\"var\"], values={\"var\": \"b\"})\n",
    "results"
   ]
  },
  {
   "cell_type": "code",
   "execution_count": 5,
   "metadata": {},
   "outputs": [
    {
     "data": {
      "text/html": [
       "\n",
       "    <style>\n",
       "    .cell-output-ipywidget-background {\n",
       "        background-color: transparent !important;\n",
       "    }\n",
       "    :root {\n",
       "        --jp-widgets-color: var(--vscode-editor-foreground);\n",
       "        --jp-widgets-font-size: var(--vscode-editor-font-size);\n",
       "    }\n",
       "    </style>\n",
       "    "
      ],
      "text/plain": [
       "<IPython.core.display.HTML object>"
      ]
     },
     "metadata": {},
     "output_type": "display_data"
    },
    {
     "data": {
      "application/vnd.jupyter.widget-view+json": {
       "model_id": "771f0b906502422bbc870b9ca45400a9",
       "version_major": 2,
       "version_minor": 0
      },
      "text/plain": [
       "VBox(children=(Dropdown(description='var', index=1, layout=Layout(min_width='300px', width='300px'), options=(…"
      ]
     },
     "metadata": {},
     "output_type": "display_data"
    }
   ],
   "source": [
    "from hypster.ui import apply_vscode_theme, interactive_config\n",
    "\n",
    "apply_vscode_theme()\n",
    "results = interactive_config(my_config, initial_values={\"var2\": \"option2\"})"
   ]
  },
  {
   "cell_type": "code",
   "execution_count": 7,
   "metadata": {},
   "outputs": [
    {
     "data": {
      "text/plain": [
       "{'var': 'b', 'var2': 100, 'var5': 1.3, 'var6': 'You are a helpful assistant'}"
      ]
     },
     "execution_count": 7,
     "metadata": {},
     "output_type": "execute_result"
    }
   ],
   "source": [
    "results"
   ]
  },
  {
   "cell_type": "code",
   "execution_count": null,
   "metadata": {},
   "outputs": [],
   "source": []
  }
 ],
 "metadata": {
  "kernelspec": {
   "display_name": "modular-rag",
   "language": "python",
   "name": "python3"
  },
  "language_info": {
   "codemirror_mode": {
    "name": "ipython",
    "version": 3
   },
   "file_extension": ".py",
   "mimetype": "text/x-python",
   "name": "python",
   "nbconvert_exporter": "python",
   "pygments_lexer": "ipython3",
   "version": "3.10.15"
  }
 },
 "nbformat": 4,
 "nbformat_minor": 2
}
